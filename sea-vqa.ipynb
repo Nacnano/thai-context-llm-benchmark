{
 "cells": [
  {
   "cell_type": "code",
   "execution_count": 1,
   "metadata": {},
   "outputs": [
    {
     "data": {
      "application/vnd.jupyter.widget-view+json": {
       "model_id": "892170b2040d48b98e76166d4bd5f6c6",
       "version_major": 2,
       "version_minor": 0
      },
      "text/plain": [
       "Downloading readme:   0%|          | 0.00/9.69k [00:00<?, ?B/s]"
      ]
     },
     "metadata": {},
     "output_type": "display_data"
    },
    {
     "data": {
      "application/vnd.jupyter.widget-view+json": {
       "model_id": "341fb35994dd497fb229da4267e9a381",
       "version_major": 2,
       "version_minor": 0
      },
      "text/plain": [
       "Downloading data:   0%|          | 0.00/116k [00:00<?, ?B/s]"
      ]
     },
     "metadata": {},
     "output_type": "display_data"
    },
    {
     "data": {
      "application/vnd.jupyter.widget-view+json": {
       "model_id": "5a53328e99c5458abc8d5177230bb0e3",
       "version_major": 2,
       "version_minor": 0
      },
      "text/plain": [
       "Downloading data:   0%|          | 0.00/303k [00:00<?, ?B/s]"
      ]
     },
     "metadata": {},
     "output_type": "display_data"
    },
    {
     "data": {
      "application/vnd.jupyter.widget-view+json": {
       "model_id": "b14b12c203404ccf9e100aa59fd78719",
       "version_major": 2,
       "version_minor": 0
      },
      "text/plain": [
       "Downloading data:   0%|          | 0.00/32.2k [00:00<?, ?B/s]"
      ]
     },
     "metadata": {},
     "output_type": "display_data"
    },
    {
     "data": {
      "application/vnd.jupyter.widget-view+json": {
       "model_id": "5c93a076e2364f3cbcefd9d2efe23aad",
       "version_major": 2,
       "version_minor": 0
      },
      "text/plain": [
       "Downloading data:   0%|          | 0.00/76.9k [00:00<?, ?B/s]"
      ]
     },
     "metadata": {},
     "output_type": "display_data"
    },
    {
     "data": {
      "application/vnd.jupyter.widget-view+json": {
       "model_id": "35918a2b96104aa6aafa25192315b6a6",
       "version_major": 2,
       "version_minor": 0
      },
      "text/plain": [
       "Downloading data:   0%|          | 0.00/62.4k [00:00<?, ?B/s]"
      ]
     },
     "metadata": {},
     "output_type": "display_data"
    },
    {
     "data": {
      "application/vnd.jupyter.widget-view+json": {
       "model_id": "9667bffec4bf4f1bb3f25486c83192be",
       "version_major": 2,
       "version_minor": 0
      },
      "text/plain": [
       "Downloading data:   0%|          | 0.00/14.6k [00:00<?, ?B/s]"
      ]
     },
     "metadata": {},
     "output_type": "display_data"
    },
    {
     "data": {
      "application/vnd.jupyter.widget-view+json": {
       "model_id": "bb32be81d80544148ef8376ac96e02bb",
       "version_major": 2,
       "version_minor": 0
      },
      "text/plain": [
       "Downloading data:   0%|          | 0.00/76.8k [00:00<?, ?B/s]"
      ]
     },
     "metadata": {},
     "output_type": "display_data"
    },
    {
     "data": {
      "application/vnd.jupyter.widget-view+json": {
       "model_id": "9e111ca8510b42c1b8e3dabec6825e36",
       "version_major": 2,
       "version_minor": 0
      },
      "text/plain": [
       "Downloading data:   0%|          | 0.00/129k [00:00<?, ?B/s]"
      ]
     },
     "metadata": {},
     "output_type": "display_data"
    },
    {
     "data": {
      "application/vnd.jupyter.widget-view+json": {
       "model_id": "6cfdf4872558450b997ac1e1cd7f0430",
       "version_major": 2,
       "version_minor": 0
      },
      "text/plain": [
       "Generating cambodia split:   0%|          | 0/304 [00:00<?, ? examples/s]"
      ]
     },
     "metadata": {},
     "output_type": "display_data"
    },
    {
     "data": {
      "application/vnd.jupyter.widget-view+json": {
       "model_id": "f04bd244b8594687a8df634ea48e7ddd",
       "version_major": 2,
       "version_minor": 0
      },
      "text/plain": [
       "Generating indonesia split:   0%|          | 0/752 [00:00<?, ? examples/s]"
      ]
     },
     "metadata": {},
     "output_type": "display_data"
    },
    {
     "data": {
      "application/vnd.jupyter.widget-view+json": {
       "model_id": "dd36facc8f364f65a0cf56886f362941",
       "version_major": 2,
       "version_minor": 0
      },
      "text/plain": [
       "Generating laos split:   0%|          | 0/72 [00:00<?, ? examples/s]"
      ]
     },
     "metadata": {},
     "output_type": "display_data"
    },
    {
     "data": {
      "application/vnd.jupyter.widget-view+json": {
       "model_id": "035e64e329504d8f985ba77b4a3c0f1f",
       "version_major": 2,
       "version_minor": 0
      },
      "text/plain": [
       "Generating malaysia split:   0%|          | 0/189 [00:00<?, ? examples/s]"
      ]
     },
     "metadata": {},
     "output_type": "display_data"
    },
    {
     "data": {
      "application/vnd.jupyter.widget-view+json": {
       "model_id": "522ceef2a8904d358e548f2b21e6fe7e",
       "version_major": 2,
       "version_minor": 0
      },
      "text/plain": [
       "Generating philippines split:   0%|          | 0/153 [00:00<?, ? examples/s]"
      ]
     },
     "metadata": {},
     "output_type": "display_data"
    },
    {
     "data": {
      "application/vnd.jupyter.widget-view+json": {
       "model_id": "f1c6262d833348668d52e2306d3fc161",
       "version_major": 2,
       "version_minor": 0
      },
      "text/plain": [
       "Generating singapore split:   0%|          | 0/32 [00:00<?, ? examples/s]"
      ]
     },
     "metadata": {},
     "output_type": "display_data"
    },
    {
     "data": {
      "application/vnd.jupyter.widget-view+json": {
       "model_id": "0eae184d16b441018241a2e6aae3d845",
       "version_major": 2,
       "version_minor": 0
      },
      "text/plain": [
       "Generating thailand split:   0%|          | 0/184 [00:00<?, ? examples/s]"
      ]
     },
     "metadata": {},
     "output_type": "display_data"
    },
    {
     "data": {
      "application/vnd.jupyter.widget-view+json": {
       "model_id": "59f93e65463249ddb4614bfa88efad74",
       "version_major": 2,
       "version_minor": 0
      },
      "text/plain": [
       "Generating vietnam split:   0%|          | 0/313 [00:00<?, ? examples/s]"
      ]
     },
     "metadata": {},
     "output_type": "display_data"
    }
   ],
   "source": [
    "from datasets import load_dataset\n",
    "\n",
    "ds = load_dataset(\"wit543/sea-vqa\")"
   ]
  },
  {
   "cell_type": "code",
   "execution_count": 5,
   "metadata": {},
   "outputs": [
    {
     "data": {
      "application/vnd.jupyter.widget-view+json": {
       "model_id": "0d13f1853bc44612864afd8bd1d9cd0e",
       "version_major": 2,
       "version_minor": 0
      },
      "text/plain": [
       "Creating CSV from Arrow format:   0%|          | 0/1 [00:00<?, ?ba/s]"
      ]
     },
     "metadata": {},
     "output_type": "display_data"
    },
    {
     "data": {
      "text/plain": [
       "70729"
      ]
     },
     "execution_count": 5,
     "metadata": {},
     "output_type": "execute_result"
    }
   ],
   "source": [
    "ds['thailand'].to_csv('data/sea-vqa/thailand.csv')   "
   ]
  },
  {
   "cell_type": "code",
   "execution_count": 12,
   "metadata": {},
   "outputs": [
    {
     "name": "stdout",
     "output_type": "stream",
     "text": [
      "Downloaded image 0: https://ich.unesco.org/img/photo/src/15309.jpg\n",
      "Downloaded image 1: https://ich.unesco.org/img/photo/src/15309.jpg\n",
      "Failed to download image 2 from https://ich.unesco.org/img/photo/src/15309.jpg: HTTPSConnectionPool(host='ich.unesco.org', port=443): Read timed out.\n",
      "Downloaded image 3: https://ich.unesco.org/img/photo/src/15309.jpg\n",
      "Downloaded image 4: https://ich.unesco.org/img/photo/src/15308.jpg\n",
      "Downloaded image 5: https://ich.unesco.org/img/photo/src/15308.jpg\n",
      "Downloaded image 6: https://ich.unesco.org/img/photo/src/15311.jpg\n",
      "Downloaded image 7: https://ich.unesco.org/img/photo/src/15310.jpg\n",
      "Downloaded image 8: https://ich.unesco.org/img/photo/src/15310.jpg\n",
      "Downloaded image 9: https://ich.unesco.org/img/photo/src/15310.jpg\n",
      "Downloaded image 10: https://ich.unesco.org/img/photo/src/15310.jpg\n",
      "Downloaded image 11: https://ich.unesco.org/img/photo/src/15310.jpg\n",
      "Downloaded image 12: https://ich.unesco.org/img/photo/src/15312.jpg\n",
      "Downloaded image 13: https://ich.unesco.org/img/photo/src/15312.jpg\n",
      "Downloaded image 14: https://ich.unesco.org/img/photo/src/15312.jpg\n",
      "Downloaded image 15: https://ich.unesco.org/img/photo/src/15317.jpg\n",
      "Downloaded image 16: https://ich.unesco.org/img/photo/src/15317.jpg\n",
      "Downloaded image 17: https://ich.unesco.org/img/photo/src/15317.jpg\n",
      "Downloaded image 18: https://ich.unesco.org/img/photo/src/15314.jpg\n",
      "Downloaded image 19: https://ich.unesco.org/img/photo/src/15314.jpg\n",
      "Downloaded image 20: https://ich.unesco.org/img/photo/src/15314.jpg\n",
      "Downloaded image 21: https://ich.unesco.org/img/photo/src/15313.jpg\n",
      "Downloaded image 22: https://ich.unesco.org/img/photo/src/15313.jpg\n",
      "Downloaded image 23: https://ich.unesco.org/img/photo/src/15313.jpg\n",
      "Downloaded image 24: https://ich.unesco.org/img/photo/src/15313.jpg\n",
      "Downloaded image 25: https://ich.unesco.org/img/photo/src/15313.jpg\n",
      "Downloaded image 26: https://ich.unesco.org/img/photo/src/15316.jpg\n",
      "Downloaded image 27: https://ich.unesco.org/img/photo/src/15316.jpg\n",
      "Downloaded image 28: https://ich.unesco.org/img/photo/src/15316.jpg\n",
      "Downloaded image 29: https://ich.unesco.org/img/photo/src/15316.jpg\n",
      "Downloaded image 30: https://ich.unesco.org/img/photo/src/15316.jpg\n",
      "Downloaded image 31: https://ich.unesco.org/img/photo/src/15315.jpg\n",
      "Downloaded image 32: https://ich.unesco.org/img/photo/src/15315.jpg\n",
      "Downloaded image 33: https://ich.unesco.org/img/photo/src/14181.jpg\n",
      "Downloaded image 34: https://ich.unesco.org/img/photo/src/14181.jpg\n",
      "Downloaded image 35: https://ich.unesco.org/img/photo/src/14181.jpg\n",
      "Downloaded image 36: https://ich.unesco.org/img/photo/src/14181.jpg\n",
      "Downloaded image 37: https://ich.unesco.org/img/photo/src/14181.jpg\n",
      "Downloaded image 38: https://ich.unesco.org/img/photo/src/14181.jpg\n",
      "Downloaded image 39: https://ich.unesco.org/img/photo/src/14181.jpg\n",
      "Downloaded image 40: https://ich.unesco.org/img/photo/src/14180.jpg\n",
      "Downloaded image 41: https://ich.unesco.org/img/photo/src/14180.jpg\n",
      "Downloaded image 42: https://ich.unesco.org/img/photo/src/14180.jpg\n",
      "Downloaded image 43: https://ich.unesco.org/img/photo/src/14180.jpg\n",
      "Downloaded image 44: https://ich.unesco.org/img/photo/src/14183.jpg\n",
      "Downloaded image 45: https://ich.unesco.org/img/photo/src/14183.jpg\n",
      "Downloaded image 46: https://ich.unesco.org/img/photo/src/14183.jpg\n",
      "Downloaded image 47: https://ich.unesco.org/img/photo/src/14183.jpg\n",
      "Downloaded image 48: https://ich.unesco.org/img/photo/src/14183.jpg\n",
      "Downloaded image 49: https://ich.unesco.org/img/photo/src/14183.jpg\n",
      "Downloaded image 50: https://ich.unesco.org/img/photo/src/14182.jpg\n",
      "Downloaded image 51: https://ich.unesco.org/img/photo/src/14182.jpg\n",
      "Downloaded image 52: https://ich.unesco.org/img/photo/src/14188.jpg\n",
      "Downloaded image 53: https://ich.unesco.org/img/photo/src/14188.jpg\n",
      "Downloaded image 54: https://ich.unesco.org/img/photo/src/14188.jpg\n",
      "Downloaded image 55: https://ich.unesco.org/img/photo/src/14188.jpg\n",
      "Downloaded image 56: https://ich.unesco.org/img/photo/src/14184.jpg\n",
      "Downloaded image 57: https://ich.unesco.org/img/photo/src/14184.jpg\n",
      "Downloaded image 58: https://ich.unesco.org/img/photo/src/14184.jpg\n",
      "Downloaded image 59: https://ich.unesco.org/img/photo/src/14184.jpg\n",
      "Downloaded image 60: https://ich.unesco.org/img/photo/src/14184.jpg\n",
      "Downloaded image 61: https://ich.unesco.org/img/photo/src/14187.jpg\n",
      "Downloaded image 62: https://ich.unesco.org/img/photo/src/14187.jpg\n",
      "Downloaded image 63: https://ich.unesco.org/img/photo/src/14187.jpg\n",
      "Downloaded image 64: https://ich.unesco.org/img/photo/src/14187.jpg\n",
      "Downloaded image 65: https://ich.unesco.org/img/photo/src/14187.jpg\n",
      "Downloaded image 66: https://ich.unesco.org/img/photo/src/14187.jpg\n",
      "Downloaded image 67: https://ich.unesco.org/img/photo/src/14187.jpg\n",
      "Downloaded image 68: https://ich.unesco.org/img/photo/src/14187.jpg\n",
      "Downloaded image 69: https://ich.unesco.org/img/photo/src/14187.jpg\n",
      "Failed to download image 70 from https://ich.unesco.org/img/photo/src/14186.jpg: ('Connection broken: IncompleteRead(1415276 bytes read, 6966697 more expected)', IncompleteRead(1415276 bytes read, 6966697 more expected))\n",
      "Downloaded image 71: https://ich.unesco.org/img/photo/src/14186.jpg\n",
      "Downloaded image 72: https://ich.unesco.org/img/photo/src/14186.jpg\n",
      "Downloaded image 73: https://ich.unesco.org/img/photo/src/14186.jpg\n",
      "Downloaded image 74: https://ich.unesco.org/img/photo/src/14186.jpg\n",
      "Downloaded image 75: https://ich.unesco.org/img/photo/src/14186.jpg\n",
      "Downloaded image 76: https://ich.unesco.org/img/photo/src/14186.jpg\n",
      "Failed to download image 77 from https://ich.unesco.org/img/photo/src/14185.jpg: ('Connection broken: IncompleteRead(1111784 bytes read, 17762693 more expected)', IncompleteRead(1111784 bytes read, 17762693 more expected))\n",
      "Failed to download image 78 from https://ich.unesco.org/img/photo/src/14185.jpg: ('Connection broken: IncompleteRead(820736 bytes read, 18053741 more expected)', IncompleteRead(820736 bytes read, 18053741 more expected))\n",
      "Failed to download image 79 from https://ich.unesco.org/img/photo/src/14185.jpg: ('Connection broken: IncompleteRead(4068600 bytes read, 14805877 more expected)', IncompleteRead(4068600 bytes read, 14805877 more expected))\n",
      "Failed to download image 80 from https://ich.unesco.org/img/photo/src/14185.jpg: ('Connection broken: IncompleteRead(2918888 bytes read, 15955589 more expected)', IncompleteRead(2918888 bytes read, 15955589 more expected))\n",
      "Failed to download image 81 from https://ich.unesco.org/img/photo/src/14185.jpg: ('Connection broken: IncompleteRead(3337360 bytes read, 15537117 more expected)', IncompleteRead(3337360 bytes read, 15537117 more expected))\n",
      "Failed to download image 82 from https://ich.unesco.org/img/photo/src/14185.jpg: ('Connection broken: IncompleteRead(3337360 bytes read, 15537117 more expected)', IncompleteRead(3337360 bytes read, 15537117 more expected))\n",
      "Failed to download image 83 from https://ich.unesco.org/img/photo/src/14185.jpg: ('Connection broken: IncompleteRead(6524408 bytes read, 12350069 more expected)', IncompleteRead(6524408 bytes read, 12350069 more expected))\n",
      "Downloaded image 84: https://ich.unesco.org/img/photo/src/14189.jpg\n",
      "Downloaded image 85: https://ich.unesco.org/img/photo/src/14189.jpg\n",
      "Downloaded image 86: https://ich.unesco.org/img/photo/src/14189.jpg\n",
      "Downloaded image 87: https://ich.unesco.org/img/photo/src/12429.jpg\n",
      "Downloaded image 88: https://ich.unesco.org/img/photo/src/12429.jpg\n",
      "Downloaded image 89: https://ich.unesco.org/img/photo/src/12429.jpg\n",
      "Downloaded image 90: https://ich.unesco.org/img/photo/src/12429.jpg\n",
      "Downloaded image 91: https://ich.unesco.org/img/photo/src/12429.jpg\n",
      "Downloaded image 92: https://ich.unesco.org/img/photo/src/12429.jpg\n",
      "Downloaded image 93: https://ich.unesco.org/img/photo/src/12429.jpg\n",
      "Downloaded image 94: https://ich.unesco.org/img/photo/src/12432.jpg\n",
      "Downloaded image 95: https://ich.unesco.org/img/photo/src/12432.jpg\n",
      "Downloaded image 96: https://ich.unesco.org/img/photo/src/12432.jpg\n",
      "Downloaded image 97: https://ich.unesco.org/img/photo/src/12432.jpg\n",
      "Downloaded image 98: https://ich.unesco.org/img/photo/src/12432.jpg\n",
      "Downloaded image 99: https://ich.unesco.org/img/photo/src/12432.jpg\n",
      "Downloaded image 100: https://ich.unesco.org/img/photo/src/12431.jpg\n",
      "Downloaded image 101: https://ich.unesco.org/img/photo/src/12431.jpg\n",
      "Downloaded image 102: https://ich.unesco.org/img/photo/src/12431.jpg\n",
      "Downloaded image 103: https://ich.unesco.org/img/photo/src/12435.jpg\n",
      "Downloaded image 104: https://ich.unesco.org/img/photo/src/12435.jpg\n",
      "Downloaded image 105: https://ich.unesco.org/img/photo/src/12435.jpg\n",
      "Downloaded image 106: https://ich.unesco.org/img/photo/src/12435.jpg\n",
      "Downloaded image 107: https://ich.unesco.org/img/photo/src/12435.jpg\n",
      "Downloaded image 108: https://ich.unesco.org/img/photo/src/12435.jpg\n",
      "Downloaded image 109: https://ich.unesco.org/img/photo/src/12433.jpg\n",
      "Downloaded image 110: https://ich.unesco.org/img/photo/src/12433.jpg\n",
      "Downloaded image 111: https://ich.unesco.org/img/photo/src/12433.jpg\n",
      "Downloaded image 112: https://ich.unesco.org/img/photo/src/12430.jpg\n",
      "Downloaded image 113: https://ich.unesco.org/img/photo/src/12430.jpg\n",
      "Downloaded image 114: https://ich.unesco.org/img/photo/src/12430.jpg\n",
      "Downloaded image 115: https://ich.unesco.org/img/photo/src/12430.jpg\n",
      "Downloaded image 116: https://ich.unesco.org/img/photo/src/12430.jpg\n",
      "Downloaded image 117: https://ich.unesco.org/img/photo/src/12437.jpg\n",
      "Downloaded image 118: https://ich.unesco.org/img/photo/src/12437.jpg\n",
      "Downloaded image 119: https://ich.unesco.org/img/photo/src/12437.jpg\n",
      "Downloaded image 120: https://ich.unesco.org/img/photo/src/12437.jpg\n",
      "Downloaded image 121: https://ich.unesco.org/img/photo/src/12438.jpg\n",
      "Downloaded image 122: https://ich.unesco.org/img/photo/src/12438.jpg\n",
      "Downloaded image 123: https://ich.unesco.org/img/photo/src/12436.jpg\n",
      "Downloaded image 124: https://ich.unesco.org/img/photo/src/12436.jpg\n",
      "Downloaded image 125: https://ich.unesco.org/img/photo/src/12436.jpg\n",
      "Downloaded image 126: https://ich.unesco.org/img/photo/src/12436.jpg\n",
      "Downloaded image 127: https://ich.unesco.org/img/photo/src/12436.jpg\n",
      "Downloaded image 128: https://ich.unesco.org/img/photo/src/12436.jpg\n",
      "Downloaded image 129: https://ich.unesco.org/img/photo/src/12436.jpg\n",
      "Downloaded image 130: https://ich.unesco.org/img/photo/src/12436.jpg\n",
      "Downloaded image 131: https://ich.unesco.org/img/photo/src/12436.jpg\n",
      "Downloaded image 132: https://ich.unesco.org/img/photo/src/12436.jpg\n",
      "Downloaded image 133: https://ich.unesco.org/img/photo/src/12436.jpg\n",
      "Downloaded image 134: https://ich.unesco.org/img/photo/src/12436.jpg\n",
      "Downloaded image 135: https://ich.unesco.org/img/photo/src/12436.jpg\n",
      "Downloaded image 136: https://ich.unesco.org/img/photo/src/12436.jpg\n",
      "Downloaded image 137: https://ich.unesco.org/img/photo/src/12436.jpg\n",
      "Downloaded image 138: https://ich.unesco.org/img/photo/src/12436.jpg\n",
      "Downloaded image 139: https://ich.unesco.org/img/photo/src/12436.jpg\n",
      "Downloaded image 140: https://ich.unesco.org/img/photo/src/12436.jpg\n",
      "Downloaded image 141: https://ich.unesco.org/img/photo/src/12436.jpg\n",
      "Downloaded image 142: https://ich.unesco.org/img/photo/src/12436.jpg\n",
      "Downloaded image 143: https://ich.unesco.org/img/photo/src/12434.jpg\n",
      "Downloaded image 144: https://ich.unesco.org/img/photo/src/12434.jpg\n",
      "Downloaded image 145: https://ich.unesco.org/img/photo/src/12434.jpg\n",
      "Downloaded image 146: https://ich.unesco.org/img/photo/src/12434.jpg\n",
      "Failed to download image 147 from https://ich.unesco.org/img/photo/src/12006.jpg: ('Connection broken: IncompleteRead(895613 bytes read, 2598002 more expected)', IncompleteRead(895613 bytes read, 2598002 more expected))\n",
      "Downloaded image 148: https://ich.unesco.org/img/photo/src/12006.jpg\n",
      "Downloaded image 149: https://ich.unesco.org/img/photo/src/12006.jpg\n",
      "Downloaded image 150: https://ich.unesco.org/img/photo/src/12006.jpg\n",
      "Downloaded image 151: https://ich.unesco.org/img/photo/src/12008.jpg\n",
      "Downloaded image 152: https://ich.unesco.org/img/photo/src/12011.jpg\n",
      "Downloaded image 153: https://ich.unesco.org/img/photo/src/12011.jpg\n",
      "Downloaded image 154: https://ich.unesco.org/img/photo/src/12011.jpg\n",
      "Downloaded image 155: https://ich.unesco.org/img/photo/src/12011.jpg\n",
      "Downloaded image 156: https://ich.unesco.org/img/photo/src/12011.jpg\n",
      "Downloaded image 157: https://ich.unesco.org/img/photo/src/12010.jpg\n",
      "Downloaded image 158: https://ich.unesco.org/img/photo/src/12010.jpg\n",
      "Downloaded image 159: https://ich.unesco.org/img/photo/src/12009.jpg\n",
      "Downloaded image 160: https://ich.unesco.org/img/photo/src/12009.jpg\n",
      "Downloaded image 161: https://ich.unesco.org/img/photo/src/12007.jpg\n",
      "Downloaded image 162: https://ich.unesco.org/img/photo/src/12007.jpg\n",
      "Downloaded image 163: https://ich.unesco.org/img/photo/src/12007.jpg\n",
      "Downloaded image 164: https://ich.unesco.org/img/photo/src/12007.jpg\n",
      "Downloaded image 165: https://ich.unesco.org/img/photo/src/12007.jpg\n",
      "Downloaded image 166: https://ich.unesco.org/img/photo/src/12012.jpg\n",
      "Downloaded image 167: https://ich.unesco.org/img/photo/src/12012.jpg\n",
      "Downloaded image 168: https://ich.unesco.org/img/photo/src/12012.jpg\n",
      "Downloaded image 169: https://ich.unesco.org/img/photo/src/12012.jpg\n",
      "Downloaded image 170: https://ich.unesco.org/img/photo/src/12012.jpg\n",
      "Downloaded image 171: https://ich.unesco.org/img/photo/src/12012.jpg\n",
      "Downloaded image 172: https://ich.unesco.org/img/photo/src/12014.jpg\n",
      "Downloaded image 173: https://ich.unesco.org/img/photo/src/12014.jpg\n",
      "Downloaded image 174: https://ich.unesco.org/img/photo/src/12014.jpg\n",
      "Downloaded image 175: https://ich.unesco.org/img/photo/src/12013.jpg\n",
      "Downloaded image 176: https://ich.unesco.org/img/photo/src/12013.jpg\n",
      "Downloaded image 177: https://ich.unesco.org/img/photo/src/12013.jpg\n",
      "Downloaded image 178: https://ich.unesco.org/img/photo/src/12015.jpg\n",
      "Downloaded image 179: https://ich.unesco.org/img/photo/src/12015.jpg\n",
      "Downloaded image 180: https://ich.unesco.org/img/photo/src/12015.jpg\n",
      "Downloaded image 181: https://ich.unesco.org/img/photo/src/12015.jpg\n",
      "Downloaded image 182: https://ich.unesco.org/img/photo/src/12015.jpg\n",
      "Downloaded image 183: https://ich.unesco.org/img/photo/src/12015.jpg\n"
     ]
    }
   ],
   "source": [
    "import requests\n",
    "import os\n",
    "from PIL import Image\n",
    "from io import BytesIO\n",
    "\n",
    "# Convert the dataset to a pandas DataFrame\n",
    "df_thailand = ds['thailand'].to_pandas()\n",
    "\n",
    "# Create the directory if it doesn't exist\n",
    "output_dir = 'data/sea-vqa/thailand'\n",
    "os.makedirs(output_dir, exist_ok=True)\n",
    "\n",
    "for i in range(len(df_thailand)):\n",
    "    image_url = df_thailand['image_page'][i]\n",
    "    \n",
    "    if isinstance(image_url, str) and image_url.startswith('https://'):\n",
    "        try:\n",
    "            photoId = image_url.split('photoID=')[-1]\n",
    "            image_url = 'https://ich.unesco.org/img/photo/src/' + photoId + '.jpg'\n",
    "            response = requests.get(image_url, stream=True, timeout=10)\n",
    "            response.raise_for_status()  \n",
    "\n",
    "            image = Image.open(BytesIO(response.content))\n",
    "            image_format = image.format.lower() \n",
    "            image.save(os.path.join(output_dir, f'thailand_{photoId}.{image_format}'))\n",
    "            print(f\"Downloaded image {i}: {image_url}\")\n",
    "        except requests.exceptions.RequestException as e:\n",
    "            print(f\"Failed to download image {i} from {image_url}: {e}\")\n",
    "        except (OSError, ValueError) as e:\n",
    "            print(f\"Error processing image {i} from {image_url}: {e}\")\n",
    "    else:\n",
    "        print(f\"Image {i} is not a valid URL: {image_url}\")\n"
   ]
  }
 ],
 "metadata": {
  "kernelspec": {
   "display_name": "Python 3",
   "language": "python",
   "name": "python3"
  },
  "language_info": {
   "codemirror_mode": {
    "name": "ipython",
    "version": 3
   },
   "file_extension": ".py",
   "mimetype": "text/x-python",
   "name": "python",
   "nbconvert_exporter": "python",
   "pygments_lexer": "ipython3",
   "version": "3.11.9"
  }
 },
 "nbformat": 4,
 "nbformat_minor": 2
}
