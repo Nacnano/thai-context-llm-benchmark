{
 "cells": [
  {
   "cell_type": "code",
   "execution_count": 1,
   "metadata": {},
   "outputs": [
    {
     "data": {
      "application/vnd.jupyter.widget-view+json": {
       "model_id": "892170b2040d48b98e76166d4bd5f6c6",
       "version_major": 2,
       "version_minor": 0
      },
      "text/plain": [
       "Downloading readme:   0%|          | 0.00/9.69k [00:00<?, ?B/s]"
      ]
     },
     "metadata": {},
     "output_type": "display_data"
    },
    {
     "data": {
      "application/vnd.jupyter.widget-view+json": {
       "model_id": "341fb35994dd497fb229da4267e9a381",
       "version_major": 2,
       "version_minor": 0
      },
      "text/plain": [
       "Downloading data:   0%|          | 0.00/116k [00:00<?, ?B/s]"
      ]
     },
     "metadata": {},
     "output_type": "display_data"
    },
    {
     "data": {
      "application/vnd.jupyter.widget-view+json": {
       "model_id": "5a53328e99c5458abc8d5177230bb0e3",
       "version_major": 2,
       "version_minor": 0
      },
      "text/plain": [
       "Downloading data:   0%|          | 0.00/303k [00:00<?, ?B/s]"
      ]
     },
     "metadata": {},
     "output_type": "display_data"
    },
    {
     "data": {
      "application/vnd.jupyter.widget-view+json": {
       "model_id": "b14b12c203404ccf9e100aa59fd78719",
       "version_major": 2,
       "version_minor": 0
      },
      "text/plain": [
       "Downloading data:   0%|          | 0.00/32.2k [00:00<?, ?B/s]"
      ]
     },
     "metadata": {},
     "output_type": "display_data"
    },
    {
     "data": {
      "application/vnd.jupyter.widget-view+json": {
       "model_id": "5c93a076e2364f3cbcefd9d2efe23aad",
       "version_major": 2,
       "version_minor": 0
      },
      "text/plain": [
       "Downloading data:   0%|          | 0.00/76.9k [00:00<?, ?B/s]"
      ]
     },
     "metadata": {},
     "output_type": "display_data"
    },
    {
     "data": {
      "application/vnd.jupyter.widget-view+json": {
       "model_id": "35918a2b96104aa6aafa25192315b6a6",
       "version_major": 2,
       "version_minor": 0
      },
      "text/plain": [
       "Downloading data:   0%|          | 0.00/62.4k [00:00<?, ?B/s]"
      ]
     },
     "metadata": {},
     "output_type": "display_data"
    },
    {
     "data": {
      "application/vnd.jupyter.widget-view+json": {
       "model_id": "9667bffec4bf4f1bb3f25486c83192be",
       "version_major": 2,
       "version_minor": 0
      },
      "text/plain": [
       "Downloading data:   0%|          | 0.00/14.6k [00:00<?, ?B/s]"
      ]
     },
     "metadata": {},
     "output_type": "display_data"
    },
    {
     "data": {
      "application/vnd.jupyter.widget-view+json": {
       "model_id": "bb32be81d80544148ef8376ac96e02bb",
       "version_major": 2,
       "version_minor": 0
      },
      "text/plain": [
       "Downloading data:   0%|          | 0.00/76.8k [00:00<?, ?B/s]"
      ]
     },
     "metadata": {},
     "output_type": "display_data"
    },
    {
     "data": {
      "application/vnd.jupyter.widget-view+json": {
       "model_id": "9e111ca8510b42c1b8e3dabec6825e36",
       "version_major": 2,
       "version_minor": 0
      },
      "text/plain": [
       "Downloading data:   0%|          | 0.00/129k [00:00<?, ?B/s]"
      ]
     },
     "metadata": {},
     "output_type": "display_data"
    },
    {
     "data": {
      "application/vnd.jupyter.widget-view+json": {
       "model_id": "6cfdf4872558450b997ac1e1cd7f0430",
       "version_major": 2,
       "version_minor": 0
      },
      "text/plain": [
       "Generating cambodia split:   0%|          | 0/304 [00:00<?, ? examples/s]"
      ]
     },
     "metadata": {},
     "output_type": "display_data"
    },
    {
     "data": {
      "application/vnd.jupyter.widget-view+json": {
       "model_id": "f04bd244b8594687a8df634ea48e7ddd",
       "version_major": 2,
       "version_minor": 0
      },
      "text/plain": [
       "Generating indonesia split:   0%|          | 0/752 [00:00<?, ? examples/s]"
      ]
     },
     "metadata": {},
     "output_type": "display_data"
    },
    {
     "data": {
      "application/vnd.jupyter.widget-view+json": {
       "model_id": "dd36facc8f364f65a0cf56886f362941",
       "version_major": 2,
       "version_minor": 0
      },
      "text/plain": [
       "Generating laos split:   0%|          | 0/72 [00:00<?, ? examples/s]"
      ]
     },
     "metadata": {},
     "output_type": "display_data"
    },
    {
     "data": {
      "application/vnd.jupyter.widget-view+json": {
       "model_id": "035e64e329504d8f985ba77b4a3c0f1f",
       "version_major": 2,
       "version_minor": 0
      },
      "text/plain": [
       "Generating malaysia split:   0%|          | 0/189 [00:00<?, ? examples/s]"
      ]
     },
     "metadata": {},
     "output_type": "display_data"
    },
    {
     "data": {
      "application/vnd.jupyter.widget-view+json": {
       "model_id": "522ceef2a8904d358e548f2b21e6fe7e",
       "version_major": 2,
       "version_minor": 0
      },
      "text/plain": [
       "Generating philippines split:   0%|          | 0/153 [00:00<?, ? examples/s]"
      ]
     },
     "metadata": {},
     "output_type": "display_data"
    },
    {
     "data": {
      "application/vnd.jupyter.widget-view+json": {
       "model_id": "f1c6262d833348668d52e2306d3fc161",
       "version_major": 2,
       "version_minor": 0
      },
      "text/plain": [
       "Generating singapore split:   0%|          | 0/32 [00:00<?, ? examples/s]"
      ]
     },
     "metadata": {},
     "output_type": "display_data"
    },
    {
     "data": {
      "application/vnd.jupyter.widget-view+json": {
       "model_id": "0eae184d16b441018241a2e6aae3d845",
       "version_major": 2,
       "version_minor": 0
      },
      "text/plain": [
       "Generating thailand split:   0%|          | 0/184 [00:00<?, ? examples/s]"
      ]
     },
     "metadata": {},
     "output_type": "display_data"
    },
    {
     "data": {
      "application/vnd.jupyter.widget-view+json": {
       "model_id": "59f93e65463249ddb4614bfa88efad74",
       "version_major": 2,
       "version_minor": 0
      },
      "text/plain": [
       "Generating vietnam split:   0%|          | 0/313 [00:00<?, ? examples/s]"
      ]
     },
     "metadata": {},
     "output_type": "display_data"
    }
   ],
   "source": [
    "from datasets import load_dataset\n",
    "\n",
    "ds = load_dataset(\"wit543/sea-vqa\")"
   ]
  },
  {
   "cell_type": "code",
   "execution_count": 5,
   "metadata": {},
   "outputs": [
    {
     "data": {
      "application/vnd.jupyter.widget-view+json": {
       "model_id": "0d13f1853bc44612864afd8bd1d9cd0e",
       "version_major": 2,
       "version_minor": 0
      },
      "text/plain": [
       "Creating CSV from Arrow format:   0%|          | 0/1 [00:00<?, ?ba/s]"
      ]
     },
     "metadata": {},
     "output_type": "display_data"
    },
    {
     "data": {
      "text/plain": [
       "70729"
      ]
     },
     "execution_count": 5,
     "metadata": {},
     "output_type": "execute_result"
    }
   ],
   "source": [
    "ds['thailand'].to_csv('data/sea-vqa/thailand.csv')   "
   ]
  },
  {
   "cell_type": "code",
   "execution_count": null,
   "metadata": {},
   "outputs": [
    {
     "name": "stdout",
     "output_type": "stream",
     "text": [
      "Downloaded image 0: https://ich.unesco.org/img/photo/src/15309.jpg\n",
      "Downloaded image 1: https://ich.unesco.org/img/photo/src/15309.jpg\n"
     ]
    }
   ],
   "source": [
    "import requests\n",
    "import os\n",
    "from PIL import Image\n",
    "from io import BytesIO\n",
    "\n",
    "# Convert the dataset to a pandas DataFrame\n",
    "df_thailand = ds['thailand'].to_pandas()\n",
    "\n",
    "# Create the directory if it doesn't exist\n",
    "output_dir = 'data/sea-vqa/thailand'\n",
    "os.makedirs(output_dir, exist_ok=True)\n",
    "\n",
    "for i in range(len(df_thailand)):\n",
    "    image_url = df_thailand['image_page'][i]\n",
    "    \n",
    "    if isinstance(image_url, str) and image_url.startswith('https://'):\n",
    "        try:\n",
    "            photoId = image_url.split('photoID=')[-1]\n",
    "            image_url = 'https://ich.unesco.org/img/photo/src/' + photoId + '.jpg'\n",
    "            response = requests.get(image_url, stream=True, timeout=10)\n",
    "            response.raise_for_status()  \n",
    "\n",
    "            image = Image.open(BytesIO(response.content))\n",
    "            image_format = image.format.lower() \n",
    "            image.save(os.path.join(output_dir, f'thailand_{photoId}.{image_format}'))\n",
    "            print(f\"Downloaded image {i}: {image_url}\")\n",
    "        except requests.exceptions.RequestException as e:\n",
    "            print(f\"Failed to download image {i} from {image_url}: {e}\")\n",
    "        except (OSError, ValueError) as e:\n",
    "            print(f\"Error processing image {i} from {image_url}: {e}\")\n",
    "    else:\n",
    "        print(f\"Image {i} is not a valid URL: {image_url}\")\n"
   ]
  }
 ],
 "metadata": {
  "kernelspec": {
   "display_name": "Python 3",
   "language": "python",
   "name": "python3"
  },
  "language_info": {
   "codemirror_mode": {
    "name": "ipython",
    "version": 3
   },
   "file_extension": ".py",
   "mimetype": "text/x-python",
   "name": "python",
   "nbconvert_exporter": "python",
   "pygments_lexer": "ipython3",
   "version": "3.11.9"
  }
 },
 "nbformat": 4,
 "nbformat_minor": 2
}
