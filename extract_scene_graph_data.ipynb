{
 "cells": [
  {
   "cell_type": "markdown",
   "metadata": {},
   "source": [
    "## Extract small scene graph data from the whole scene graph data from GQA\n",
    "\n",
    "### Because the loading time is taking too long for downloading the whole file"
   ]
  },
  {
   "cell_type": "code",
   "execution_count": null,
   "metadata": {},
   "outputs": [
    {
     "name": "stdout",
     "output_type": "stream",
     "text": [
      "Extracted data saved to data/sceneGraphs/extracted_sceneGraphs.json\n"
     ]
    }
   ],
   "source": [
    "import json\n",
    "\n",
    "def load_scene_graph(file_path):\n",
    "    with open(file_path, 'r') as f:\n",
    "        return json.load(f)\n",
    "\n",
    "def extract_selected_image_data(scene_graph_data, image_ids):\n",
    "    extracted_data = {}\n",
    "    for image_id in image_ids:\n",
    "        if image_id in scene_graph_data:\n",
    "            extracted_data[image_id] = scene_graph_data[image_id]\n",
    "        else:\n",
    "            print(f\"Image ID {image_id} not found in the scene graph data.\")\n",
    "    return extracted_data\n",
    "\n",
    "def save_extracted_data(extracted_data, output_file_path):\n",
    "    with open(output_file_path, 'w') as f:\n",
    "        json.dump(extracted_data, f, sort_keys=True, indent=4)\n",
    "\n",
    "### Download from GQA website\n",
    "english_scene_graph_file = 'data/sceneGraphs/train_sceneGraphs.json'\n",
    "output_file_path = 'data/sceneGraphs/extracted_sceneGraphs.json'\n",
    "\n",
    "image_ids_to_extract = [\"2338159\", \"2382734\", \"2357213\"]\n",
    "\n",
    "english_scene_graph_data = load_scene_graph(english_scene_graph_file)\n",
    "\n",
    "extracted_data = extract_selected_image_data(english_scene_graph_data, image_ids_to_extract)\n",
    "\n",
    "save_extracted_data(extracted_data, output_file_path)\n",
    "\n",
    "print(f\"Extracted data saved to {output_file_path}\")\n"
   ]
  }
 ],
 "metadata": {
  "kernelspec": {
   "display_name": "Python 3",
   "language": "python",
   "name": "python3"
  },
  "language_info": {
   "codemirror_mode": {
    "name": "ipython",
    "version": 3
   },
   "file_extension": ".py",
   "mimetype": "text/x-python",
   "name": "python",
   "nbconvert_exporter": "python",
   "pygments_lexer": "ipython3",
   "version": "3.11.9"
  }
 },
 "nbformat": 4,
 "nbformat_minor": 2
}
