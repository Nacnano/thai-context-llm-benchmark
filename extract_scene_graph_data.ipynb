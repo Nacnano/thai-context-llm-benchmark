{
 "cells": [
  {
   "cell_type": "code",
   "execution_count": null,
   "metadata": {},
   "outputs": [],
   "source": [
    "import json\n",
    "\n",
    "def load_scene_graph(file_path):\n",
    "    with open(file_path, 'r') as f:\n",
    "        return json.load(f)\n",
    "\n",
    "def extract_selected_image_data(scene_graph_data, image_ids):\n",
    "    extracted_data = {}\n",
    "    for image_id in image_ids:\n",
    "        if image_id in scene_graph_data:\n",
    "            extracted_data[image_id] = scene_graph_data[image_id]\n",
    "        else:\n",
    "            print(f\"Image ID {image_id} not found in the scene graph data.\")\n",
    "    return extracted_data\n",
    "\n",
    "def save_extracted_data(extracted_data, output_file_path):\n",
    "    with open(output_file_path, 'w') as f:\n",
    "        json.dump(extracted_data, f, sort_keys=True, indent=4)\n",
    "\n",
    "# File paths\n",
    "english_scene_graph_file = 'data/sceneGraphs/train_sceneGraphs.json'\n",
    "output_file_path = 'data/sceneGraphs/extracted_image_data.json'\n",
    "\n",
    "# List of image IDs to extract\n",
    "image_ids_to_extract = [\"2338159\", \"2382734\", \"2357213\"]\n",
    "\n",
    "# Load the full scene graph data\n",
    "english_scene_graph_data = load_scene_graph(english_scene_graph_file)\n",
    "\n",
    "# Extract the selected image data\n",
    "extracted_data = extract_selected_image_data(english_scene_graph_data, image_ids_to_extract)\n",
    "\n",
    "# Save the extracted data to a new JSON file\n",
    "save_extracted_data(extracted_data, output_file_path)\n",
    "\n",
    "print(f\"Extracted data saved to {output_file_path}\")\n"
   ]
  }
 ],
 "metadata": {
  "language_info": {
   "name": "python"
  }
 },
 "nbformat": 4,
 "nbformat_minor": 2
}
